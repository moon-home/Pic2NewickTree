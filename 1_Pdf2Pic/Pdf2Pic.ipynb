{
 "cells": [
  {
   "cell_type": "code",
   "execution_count": 1,
   "metadata": {},
   "outputs": [
    {
     "name": "stdout",
     "output_type": "stream",
     "text": [
      "PyMuPDF 1.13.20: Python bindings for the MuPDF 1.13.0 library,\n",
      "built on 2018-09-09 09:54:14\n"
     ]
    }
   ],
   "source": [
    "import fitz\n",
    "import time\n",
    "import re\n",
    "import os\n",
    "import sys\n",
    "from PIL import Image\n",
    "\n",
    "print(fitz.__doc__)"
   ]
  },
  {
   "cell_type": "code",
   "execution_count": 2,
   "metadata": {},
   "outputs": [],
   "source": [
    "def recoverpix(doc, item):\n",
    "    x = item[0]  # xref of PDF image\n",
    "    s = item[1]  # xref of its /SMask\n",
    "    pix1 = fitz.Pixmap(doc, x)\n",
    "    if s == 0:                    # has no /SMask\n",
    "        return pix1               # no special handling\n",
    "    pix2 = fitz.Pixmap(doc, s)    # create pixmap of /SMask entry\n",
    "    # check that we are safe\n",
    "    if not (pix1.irect == pix2.irect and \\\n",
    "            pix1.alpha == pix2.alpha == 0 and \\\n",
    "            pix2.n == 1):\n",
    "        print(\"pix1\", pix1, \"pix2\", pix2)\n",
    "        raise ValueError(\"unexpected situation\")\n",
    "    pix = fitz.Pixmap(pix1)       # copy of pix1, alpha channel added\n",
    "    pix.setAlpha(pix2.samples)    # treat pix2.samples as alpha value\n",
    "    pix1 = pix2 = None            # free temp pixmaps\n",
    "    return pix"
   ]
  },
  {
   "cell_type": "code",
   "execution_count": 61,
   "metadata": {},
   "outputs": [],
   "source": [
    "def pdf2pic(prefix, pdf_path, outputfolder_path):\n",
    "    xreflist = [] \n",
    "    imgcount = 0 \n",
    "    pdf = fitz.open(pdf_path)\n",
    "    for i in range(len(pdf)):\n",
    "        imglist = pdf.getPageImageList(i)\n",
    "        for img in imglist:\n",
    "            if img[0] in xreflist:         # this image has been processed\n",
    "                continue \n",
    "            xreflist.append(img[0])        # take note of the xref\n",
    "            pix = recoverpix(pdf, img[:2]) # make pixmap from image\n",
    "            if pix.n - pix.alpha < 4:      # can be saved as PNG\n",
    "                pass\n",
    "            else:                          # must convert CMYK first\n",
    "                pix0 = fitz.Pixmap(fitz.csRGB, pix)\n",
    "                pix = pix0\n",
    "\n",
    "            pic_name = prefix+\"_p\"+str(i)+img[7]+\".png\"\n",
    "            pix.writePNG(pic_name)\n",
    "            current_dir = os.path.join(os.getcwd(), pic_name)\n",
    "            destination_dir = os.path.join(outputfolder_path, pic_name)\n",
    "            os.rename(current_dir, destination_dir)\n",
    "            imgcount += 1\n",
    "            pix = None    \n",
    "    pdf.close()"
   ]
  },
  {
   "cell_type": "code",
   "execution_count": 62,
   "metadata": {},
   "outputs": [],
   "source": [
    "def pdfs2pics(pdffolder_path, outputfolder_path):\n",
    "    pdfs= os.listdir(pdffolder_path)\n",
    "    for pdf in pdfs: \n",
    "        if not os.path.isdir(pdf): #only open when it's not a folder\n",
    "            prefix = pdf[0:40]\n",
    "            pdf_path = os.path.join(pdffolder_path, pdf)\n",
    "            pdf2pic(prefix, pdf_path, outputfolder_path)"
   ]
  },
  {
   "cell_type": "code",
   "execution_count": 63,
   "metadata": {},
   "outputs": [],
   "source": [
    "pdf_folder = \"PDFS\"\n",
    "current_path = os.getcwd()\n",
    "pdffolder_path = os.path.join(current_path, pdf_folder)\n",
    "outputfolder_path = os.path.join(current_path, \"Pdf2Pic_output\")\n",
    "if os.path.exists(outputfolder_path):\n",
    "    print(\"foler already existed, please create a new folder！\")\n",
    "    raise SystemExit\n",
    "else:\n",
    "    os.makedirs(outputfolder_path)\n",
    "pdfs2pics(pdffolder_path, outputfolder_path)"
   ]
  }
 ],
 "metadata": {
  "kernelspec": {
   "display_name": "Python [default]",
   "language": "python",
   "name": "python3"
  },
  "language_info": {
   "codemirror_mode": {
    "name": "ipython",
    "version": 3
   },
   "file_extension": ".py",
   "mimetype": "text/x-python",
   "name": "python",
   "nbconvert_exporter": "python",
   "pygments_lexer": "ipython3",
   "version": "3.6.6"
  }
 },
 "nbformat": 4,
 "nbformat_minor": 2
}
