{
 "cells": [
  {
   "cell_type": "code",
   "execution_count": 60,
   "metadata": {},
   "outputs": [],
   "source": [
    "import glob, os\n",
    "import fitz\n",
    "from shutil import copyfile"
   ]
  },
  {
   "cell_type": "code",
   "execution_count": null,
   "metadata": {},
   "outputs": [],
   "source": [
    "def rename(oldfolder_dir, old_pattern, newfolder_dir, new_pattern=None):\n",
    "    n = 0\n",
    "    for pathAndFilename in glob.iglob(os.path.join(oldfolder_dir, old_pattern)):\n",
    "        n += 1\n",
    "        doc = fitz.open(pathAndFilename)\n",
    "        metainfo = '' \n",
    "        #metainfo = '_'+doc.metadata['creationDate'][2:10]\n",
    "        #choose whether to add extra information for new name\n",
    "        doc.close()\n",
    "        title, ext = os.path.splitext(os.path.basename(pathAndFilename))\n",
    "        copyfile(pathAndFilename, os.path.join(newfolder_dir, str(n)+metainfo+'.pdf'))\n",
    "        #os.rename(pathAndFilename, os.path.join(newfolder_dir, str(n)+'.pdf'))\n",
    "        #choose to move or copy"
   ]
  },
  {
   "cell_type": "markdown",
   "metadata": {},
   "source": [
    "By default, only number as primary key is used for renaming the files, but you can add information into the new name by using doc.metadata. By default, files are copied and renamed, you can opt to cut and rename. "
   ]
  },
  {
   "cell_type": "code",
   "execution_count": 61,
   "metadata": {},
   "outputs": [],
   "source": [
    "oldfolder = \"PDFS\"\n",
    "current_dir = os.getcwd()\n",
    "oldfolder_dir = os.path.join(current_dir, oldfolder)\n",
    "newfolder_dir = os.path.join(current_dir, \"Rename_output\")\n",
    "if os.path.exists(newfolder_dir):\n",
    "    print(\"oldfolder_dir: \", newfolder_dir)\n",
    "    print(\"foler already existed, please create a new folder！\")\n",
    "    raise SystemExit\n",
    "else:\n",
    "    os.makedirs(newfolder_dir)\n",
    "old_pattern = '*.pdf'\n",
    "rename(oldfolder_dir, old_pattern, newfolder_dir)"
   ]
  },
  {
   "cell_type": "code",
   "execution_count": null,
   "metadata": {},
   "outputs": [],
   "source": [
    "# [os.rename(f, f.replace('_', '-')) for f in os.listdir('.') if not f.startswith('.')]"
   ]
  }
 ],
 "metadata": {
  "kernelspec": {
   "display_name": "Python [default]",
   "language": "python",
   "name": "python3"
  },
  "language_info": {
   "codemirror_mode": {
    "name": "ipython",
    "version": 3
   },
   "file_extension": ".py",
   "mimetype": "text/x-python",
   "name": "python",
   "nbconvert_exporter": "python",
   "pygments_lexer": "ipython3",
   "version": "3.6.6"
  }
 },
 "nbformat": 4,
 "nbformat_minor": 2
}
