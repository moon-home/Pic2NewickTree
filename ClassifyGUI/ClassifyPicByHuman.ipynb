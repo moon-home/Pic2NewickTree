{
 "cells": [
  {
   "cell_type": "code",
   "execution_count": 1,
   "metadata": {},
   "outputs": [],
   "source": [
    "from tkinter import *\n",
    "import os\n",
    "from os import listdir\n",
    "from os.path import isfile, join\n",
    "from PIL import Image, ImageTk\n",
    "from tkinter import messagebox"
   ]
  },
  {
   "cell_type": "code",
   "execution_count": 2,
   "metadata": {},
   "outputs": [
    {
     "name": "stdout",
     "output_type": "stream",
     "text": [
      "len(ImgNameList):  5\n"
     ]
    }
   ],
   "source": [
    "current_dir = os.getcwd()\n",
    "UnclassifiedFolderName = 'UnclassifiedPics'\n",
    "TreeFolderName = 'Trees'\n",
    "NotreeFolderName = 'Notrees'\n",
    "IdkFolderName = 'IdkAhh'\n",
    "UnclassifiedFolder_dir = os.path.join(current_dir, UnclassifiedFolderName)\n",
    "TreeFolder_dir = os.path.join(current_dir, TreeFolderName)\n",
    "NotreeFolder_dir = os.path.join(current_dir, NotreeFolderName)\n",
    "IdkFolder_dir = os.path.join(current_dir, IdkFolderName)\n",
    "\n",
    "if os.path.exists(TreeFolder_dir):\n",
    "    print(\"foler <\", TreeFolderName , \"> already existed, please create a new folder！\")\n",
    "    raise SystemExit\n",
    "else:\n",
    "    os.makedirs(TreeFolder_dir)\n",
    "    \n",
    "if os.path.exists(NotreeFolder_dir):\n",
    "    print(\"foler <\", NotreeFolderName , \"> already existed, please create a new folder！\")\n",
    "    raise SystemExit\n",
    "else:\n",
    "    os.makedirs(NotreeFolder_dir)\n",
    "\n",
    "if os.path.exists(IdkFolder_dir):\n",
    "    print(\"foler <\", IdkFolderName , \"> already existed, please create a new folder！\")\n",
    "    raise SystemExit\n",
    "else:\n",
    "    os.makedirs(IdkFolder_dir)\n",
    "\n",
    "ImgNameList = [f for f in listdir(UnclassifiedFolder_dir) if isfile(join(UnclassifiedFolder_dir, f))]\n",
    "print(\"len(ImgNameList): \", len(ImgNameList))\n",
    "\n",
    "n_PicToFinish = len(ImgNameList)\n",
    "n_PicFinished = 0\n",
    "img_dir = os.path.join(UnclassifiedFolder_dir, ImgNameList[0])"
   ]
  },
  {
   "cell_type": "code",
   "execution_count": 3,
   "metadata": {},
   "outputs": [
    {
     "data": {
      "text/plain": [
       "'1.png'"
      ]
     },
     "execution_count": 3,
     "metadata": {},
     "output_type": "execute_result"
    }
   ],
   "source": [
    "ImgNameList[n_PicFinished]"
   ]
  },
  {
   "cell_type": "code",
   "execution_count": 4,
   "metadata": {},
   "outputs": [],
   "source": [
    "def DisplayImg(img_dir):\n",
    "    load = Image.open(img_dir)\n",
    "    #load.resize((100, 100))\n",
    "    pic = ImageTk.PhotoImage(load)\n",
    "    LabelImg = Label(root, image = pic, width=1200)\n",
    "    LabelImg.image=pic\n",
    "    LabelImg.place(x = 0,y = 0)\n",
    "    \n",
    "def ClassifyPic(Dest_dir):\n",
    "    global n_PicFinished\n",
    "    ImgName = ImgNameList[n_PicFinished]\n",
    "    os.rename(os.path.join(UnclassifiedFolder_dir, ImgName), os.path.join(Dest_dir, ImgName))\n",
    "    if n_PicFinished<(len(ImgNameList)-1):\n",
    "        n_PicFinished +=1\n",
    "    else:\n",
    "        {messagebox}.showinfo(\"Title\", \"a Tk MessageBox\")\n",
    "        return\n",
    "    img_dir = os.path.join(UnclassifiedFolder_dir, ImgNameList[n_PicFinished])\n",
    "    DisplayImg(img_dir)\n",
    "    "
   ]
  },
  {
   "cell_type": "code",
   "execution_count": 5,
   "metadata": {},
   "outputs": [],
   "source": [
    "root = Tk()\n",
    "DisplayImg(img_dir)\n",
    "\n",
    "B1 = Button(root, text = \"This is tree\", height = 2, width = 17, bg = 'RoyalBlue2', font=(\"Comic Sans MS\", 16, \"normal\"),\n",
    "            command = lambda:ClassifyPic(TreeFolder_dir))\n",
    "B1.place(x = 1200,y = 100)\n",
    "\n",
    "B2 = Button(root, text = \"This is NOT tree\", height = 2, width = 17, bg = 'cyan2', font=(\"Comic Sans MS\", 16, \"normal\"),\n",
    "            command = lambda:ClassifyPic(NotreeFolder_dir))\n",
    "B2.place(x = 1200,y = 200)\n",
    "\n",
    "B3 = Button(root, text = \"I am not sure...\", height = 2, width = 17, bg = 'yellow2', font=(\"Comic Sans MS\", 16, \"normal\"),\n",
    "           command = lambda:ClassifyPic(IdkFolder_dir))\n",
    "B3.place(x = 1200,y = 300)\n",
    "\n",
    "    \n",
    "root.geometry(\"1500x800\")\n",
    "root.mainloop()"
   ]
  },
  {
   "cell_type": "code",
   "execution_count": null,
   "metadata": {},
   "outputs": [],
   "source": []
  },
  {
   "cell_type": "code",
   "execution_count": null,
   "metadata": {},
   "outputs": [],
   "source": []
  }
 ],
 "metadata": {
  "kernelspec": {
   "display_name": "Python [default]",
   "language": "python",
   "name": "python3"
  },
  "language_info": {
   "codemirror_mode": {
    "name": "ipython",
    "version": 3
   },
   "file_extension": ".py",
   "mimetype": "text/x-python",
   "name": "python",
   "nbconvert_exporter": "python",
   "pygments_lexer": "ipython3",
   "version": "3.6.6"
  }
 },
 "nbformat": 4,
 "nbformat_minor": 2
}
